{
 "cells": [
  {
   "cell_type": "code",
   "execution_count": 19,
   "metadata": {},
   "outputs": [
    {
     "name": "stdout",
     "output_type": "stream",
     "text": [
      "blue is 10 years old\n",
      "woo is 15 years old\n"
     ]
    }
   ],
   "source": [
    "class Parrot:\n",
    "    # class attribute\n",
    "    species = 'bird';\n",
    "    # instance attribute\n",
    "    def __init__(self, name, age):\n",
    "        self.name = name\n",
    "        self.age = age\n",
    "# instantiate the Parrot class\n",
    "blu = Parrot('blue', 10)\n",
    "woo = Parrot('woo', 15)\n",
    "\n",
    "print('{} is {} years old'.format( blu.name, blu.age))\n",
    "print('{} is {} years old'.format( woo.name, woo.age))"
   ]
  },
  {
   "cell_type": "code",
   "execution_count": 20,
   "metadata": {},
   "outputs": [
    {
     "name": "stdout",
     "output_type": "stream",
     "text": [
      "Kitty is a cat, and 3 years old\n"
     ]
    }
   ],
   "source": [
    "class Cat:\n",
    "    def __init__(self,name,age):\n",
    "        self.name = name\n",
    "        self.age = age\n",
    "\n",
    "kit = Cat(\"Kitty\", 3)\n",
    "\n",
    "print(\"{} is a cat, and {} years old\".format( kit.name, kit.age))"
   ]
  },
  {
   "cell_type": "code",
   "execution_count": 36,
   "metadata": {},
   "outputs": [
    {
     "ename": "SyntaxError",
     "evalue": "expected ':' (599633360.py, line 8)",
     "output_type": "error",
     "traceback": [
      "\u001b[1;36m  Input \u001b[1;32mIn [36]\u001b[1;36m\u001b[0m\n\u001b[1;33m    class JackRusselTerrier(Dog)\u001b[0m\n\u001b[1;37m                                 ^\u001b[0m\n\u001b[1;31mSyntaxError\u001b[0m\u001b[1;31m:\u001b[0m expected ':'\n"
     ]
    }
   ],
   "source": [
    "class Dog :\n",
    "    def walk(self):\n",
    "        return \"*Walking*\"\n",
    "    \n",
    "    def speak(self):\n",
    "        return \"Woof!\"\n",
    "\n",
    "class JackRusselTerrier(Dog) \n",
    "    def speak(self):\n",
    "        return \"Arfff!\"\n",
    "\n",
    "bobo = JackRusselTerrier()\n",
    "bobo.speak()"
   ]
  },
  {
   "cell_type": "code",
   "execution_count": 37,
   "metadata": {},
   "outputs": [
    {
     "name": "stdout",
     "output_type": "stream",
     "text": [
      "15\n"
     ]
    }
   ],
   "source": [
    "def outer_fun(a, b):\n",
    "    def inner_fun(c, d):\n",
    "        return c + d\n",
    "    return inner_fun(a, b)\n",
    "\n",
    "res = outer_fun(5, 10)\n",
    "print(res)"
   ]
  },
  {
   "cell_type": "code",
   "execution_count": 41,
   "metadata": {},
   "outputs": [
    {
     "name": "stdout",
     "output_type": "stream",
     "text": [
      "None\n"
     ]
    }
   ],
   "source": [
    "def add(a,b):\n",
    "    return\n",
    "\n",
    "result = add(3,2)\n",
    "print(result)"
   ]
  },
  {
   "cell_type": "code",
   "execution_count": 40,
   "metadata": {},
   "outputs": [
    {
     "name": "stdout",
     "output_type": "stream",
     "text": [
      "Emma 25\n"
     ]
    }
   ],
   "source": [
    "def fun1(name, age=20):\n",
    "    print(name, age)\n",
    "\n",
    "fun1('Emma', 25)"
   ]
  },
  {
   "cell_type": "code",
   "execution_count": null,
   "metadata": {},
   "outputs": [],
   "source": [
    "class Hewan :\n",
    "    \"\"\"class Hewan, dengan class atrribute default nama latin Animalia.\n",
    "    \"\"\"\n",
    "    nama_latin = \"Animalia\"\n",
    "\n",
    "    def __init__(self, nama, umur):\n",
    "        self.nama = nama\n",
    "        self.umur = umur\n",
    "    \n",
    "    def bangun(self, bangun):\n",
    "        return \"{} ayoo bangun!\".format(self.name)\n",
    "    \n",
    "    def change_nama_latin(self):\n",
    "        print(nama_latin)\n"
   ]
  }
 ],
 "metadata": {
  "kernelspec": {
   "display_name": "Python 3.10.6 64-bit",
   "language": "python",
   "name": "python3"
  },
  "language_info": {
   "codemirror_mode": {
    "name": "ipython",
    "version": 3
   },
   "file_extension": ".py",
   "mimetype": "text/x-python",
   "name": "python",
   "nbconvert_exporter": "python",
   "pygments_lexer": "ipython3",
   "version": "3.10.6"
  },
  "orig_nbformat": 4,
  "vscode": {
   "interpreter": {
    "hash": "188eab0d80f297e720b048cc49fa5b8774ba35b9b47226fca9381812394be7a9"
   }
  }
 },
 "nbformat": 4,
 "nbformat_minor": 2
}
